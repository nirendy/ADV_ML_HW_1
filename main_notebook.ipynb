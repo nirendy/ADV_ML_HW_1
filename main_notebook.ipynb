{
 "cells": [
  {
   "cell_type": "code",
   "execution_count": null,
   "id": "12756a834b03ed33",
   "metadata": {
    "collapsed": true
   },
   "outputs": [],
   "source": [
    "import torch\n",
    "\n",
    "from datasets.mathqa_dataset import MathQADataset\n",
    "from datasets.retrieval_dataset import RetrievalDataset\n",
    "\n"
   ]
  },
  {
   "metadata": {},
   "cell_type": "code",
   "outputs": [],
   "execution_count": null,
   "source": "device = torch.device('cuda' if torch.cuda.is_available() else 'cpu')",
   "id": "3d8dfc9f08c9a"
  },
  {
   "metadata": {},
   "cell_type": "code",
   "outputs": [],
   "execution_count": null,
   "source": [
    "\n",
    "from utils.experiment_runner import run_experiment\n",
    "from datasets.listops_dataset import ListOpsDataset\n",
    "from models.lstm import LSTMArchitecture\n",
    "from models.transformer import TransformerArchitecture\n",
    "\n",
    "from models.s4 import S4Architecture\n",
    "\n",
    "architectures = [LSTMArchitecture, TransformerArchitecture, S4Architecture]\n",
    "pretrain_datasets = [None, MathQADataset, RetrievalDataset]\n",
    "finetune_datasets = [ListOpsDataset]\n",
    "\n",
    "# Run the experiment and display the results\n",
    "results_df = run_experiment(architectures, pretrain_datasets, finetune_datasets)"
   ],
   "id": "initial_id"
  },
  {
   "metadata": {},
   "cell_type": "code",
   "outputs": [],
   "execution_count": null,
   "source": "print(results_df)",
   "id": "98bceccf18d6fbb5"
  }
 ],
 "metadata": {
  "kernelspec": {
   "display_name": "Python 3",
   "language": "python",
   "name": "python3"
  },
  "language_info": {
   "codemirror_mode": {
    "name": "ipython",
    "version": 2
   },
   "file_extension": ".py",
   "mimetype": "text/x-python",
   "name": "python",
   "nbconvert_exporter": "python",
   "pygments_lexer": "ipython2",
   "version": "2.7.6"
  }
 },
 "nbformat": 4,
 "nbformat_minor": 5
}
